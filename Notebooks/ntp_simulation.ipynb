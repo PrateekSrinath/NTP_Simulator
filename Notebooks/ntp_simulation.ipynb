{
 "cells": [
  {
   "cell_type": "code",
   "execution_count": null,
   "id": "543b8a36",
   "metadata": {},
   "outputs": [],
   "source": [
    "import sys\n",
    "import os\n",
    "import pandas as pd\n",
    "import matplotlib.pyplot as plt\n",
    "\n",
    "# Notebook + project paths\n",
    "notebook_dir = os.path.dirname(os.path.abspath(\"__file__\"))\n",
    "project_root = os.path.abspath(os.path.join(notebook_dir, \"..\"))\n",
    "src_path = os.path.join(project_root, \"src\")\n",
    "if src_path not in sys.path:\n",
    "    sys.path.append(src_path)\n",
    "\n",
    "from ntp_simulation import run_sim, run_batch_sim, load_params\n",
    "\n",
    "# CSV path\n",
    "csv_path = os.path.join(project_root, \"data\", \"reactors.csv\")\n"
   ]
  },
  {
   "cell_type": "code",
   "execution_count": null,
   "id": "b476e3dc",
   "metadata": {},
   "outputs": [],
   "source": [
    "df = pd.read_csv(csv_path)\n",
    "df.head()\n"
   ]
  },
  {
   "cell_type": "code",
   "execution_count": null,
   "id": "6ed789ef",
   "metadata": {},
   "outputs": [],
   "source": [
    "params_path = os.path.join(project_root, \"src\", \"params.yaml\")\n",
    "params = load_params(params_path)\n",
    "out = run_sim(params)\n",
    "\n",
    "# Show temperature profile\n",
    "pd.DataFrame({\n",
    "    \"x (m)\": out[\"x\"],\n",
    "    \"T_gas (K)\": out[\"T_gas\"],\n",
    "    \"T_wall (K)\": out[\"T_wall\"]\n",
    "}).head()\n"
   ]
  },
  {
   "cell_type": "code",
   "execution_count": null,
   "id": "11f80f3e",
   "metadata": {},
   "outputs": [],
   "source": [
    "plt.plot(out[\"x\"], out[\"T_gas\"], label=\"Gas Temp\")\n",
    "plt.plot(out[\"x\"], out[\"T_wall\"], label=\"Wall Temp\")\n",
    "plt.xlabel(\"Axial position (m)\")\n",
    "plt.ylabel(\"Temperature (K)\")\n",
    "plt.title(f'Single Reactor: Isp={out[\"Isp\"]:.1f}s, Thrust={out[\"thrust\"]:.1f}N')\n",
    "plt.legend()\n",
    "plt.grid(True)\n",
    "plt.show()\n"
   ]
  },
  {
   "cell_type": "code",
   "execution_count": null,
   "id": "4c773b18",
   "metadata": {},
   "outputs": [],
   "source": [
    "import numpy as np\n",
    "import matplotlib.pyplot as plt\n",
    "\n",
    "# Run batch sim to get results and summary\n",
    "results, summary_df = run_batch_sim(csv_path, show_plots=False)\n",
    "\n",
    "# Extract data\n",
    "names = summary_df[\"reactor_name\"].tolist()\n",
    "Isp_values = summary_df[\"Isp\"].tolist()\n",
    "Thrust_values = summary_df[\"thrust\"].tolist()\n",
    "\n",
    "x = np.arange(len(names))\n",
    "width = 0.4\n",
    "\n",
    "fig, ax1 = plt.subplots(figsize=(10,5))\n",
    "\n",
    "# Left bars = Isp\n",
    "rects1 = ax1.bar(x - width/2, Isp_values, width=width, color=\"tab:blue\", alpha=0.8)\n",
    "ax1.set_ylabel(\"Isp (s)\", color=\"tab:blue\")\n",
    "ax1.tick_params(axis=\"y\", labelcolor=\"tab:blue\")\n",
    "\n",
    "# Right bars = Thrust\n",
    "ax2 = ax1.twinx()\n",
    "rects2 = ax2.bar(x + width/2, Thrust_values, width=width, color=\"tab:red\", alpha=0.8)\n",
    "ax2.set_ylabel(\"Thrust (N)\", color=\"tab:red\")\n",
    "ax2.tick_params(axis=\"y\", labelcolor=\"tab:red\")\n",
    "\n",
    "# Add numbers above bars\n",
    "def autolabel(rects, ax, fmt=\"{:.0f}\"):\n",
    "    for rect in rects:\n",
    "        h = rect.get_height()\n",
    "        ax.text(rect.get_x() + rect.get_width()/2., h + 0.01*h,\n",
    "                fmt.format(h), ha=\"center\", va=\"bottom\", fontsize=8)\n",
    "\n",
    "autolabel(rects1, ax1, \"{:.0f}\")     # Isp integer\n",
    "autolabel(rects2, ax2, \"{:.2e}\")     # Thrust scientific notation\n",
    "\n",
    "# X-axis labels\n",
    "ax1.set_xticks(x)\n",
    "ax1.set_xticklabels(names, rotation=20)\n",
    "ax1.set_title(\"Reactor Performance Comparison\")\n",
    "\n",
    "# ✅ Proper legend (no warnings)\n",
    "handles = [rects1.patches[0], rects2.patches[0]]\n",
    "labels = [\"Isp (s)\", \"Thrust (N)\"]\n",
    "ax1.legend(handles, labels, loc=\"upper left\")\n",
    "\n",
    "fig.tight_layout()\n",
    "plt.show()\n"
   ]
  }
 ],
 "metadata": {
  "kernelspec": {
   "display_name": "venv (3.12.7)",
   "language": "python",
   "name": "python3"
  },
  "language_info": {
   "codemirror_mode": {
    "name": "ipython",
    "version": 3
   },
   "file_extension": ".py",
   "mimetype": "text/x-python",
   "name": "python",
   "nbconvert_exporter": "python",
   "pygments_lexer": "ipython3",
   "version": "3.12.7"
  }
 },
 "nbformat": 4,
 "nbformat_minor": 5
}
